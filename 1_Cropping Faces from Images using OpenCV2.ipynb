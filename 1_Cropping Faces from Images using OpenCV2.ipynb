{
 "cells": [
  {
   "cell_type": "markdown",
   "metadata": {},
   "source": [
    "# Cropping Faces from Images using OpenCV2"
   ]
  },
  {
   "cell_type": "markdown",
   "metadata": {},
   "source": [
    "## Haar Feature-based Cascade Classifier for Object Detection"
   ]
  },
  {
   "cell_type": "markdown",
   "metadata": {},
   "source": [
    "### Basics\n",
    "- Need 'Positive' images(images of face) and 'Negative' images(images without face) to train the classifier\n",
    "- Then we need to extract features from it ==> 'Haar Feature'\n",
    "- 'Haar Feature' = edge / line / four rectangle\n",
    "- Haar Features are the input to the basic classifiers ( Decision Tree Classifiers )\n",
    "\n",
    "### Cascade classifiers\n",
    "- It groups the features into different stages of classifiers and apply one by one.\n",
    "- 즉, Stage 1을 통과하지 못하면 나머지는 계산하지 않고 버림. 따라서 모든 feature들에 대해서 계산하지 않아도 되는 장점.\n",
    "\n",
    "### Simple example\n",
    "- Class 1과 Class 2를 구분해야하는 문제가 있다. 총 3개의 feature가 있는데, 만약 2개의 feature가 Negative면 Class 1, 그렇지 않다면 Class 2라고 가정하자.\n",
    "\n",
    "- feature 1 'Negative'\n",
    "    - feature 2 'Negative'\n",
    "        - feature 3 'Negative' -> Class 2\n",
    "        - feature 3 'Positive' -> Class 1"
   ]
  },
  {
   "cell_type": "markdown",
   "metadata": {},
   "source": [
    "### Practice Face Recognition"
   ]
  },
  {
   "cell_type": "code",
   "execution_count": 11,
   "metadata": {
    "collapsed": false
   },
   "outputs": [
    {
     "data": {
      "text/plain": [
       "-1"
      ]
     },
     "execution_count": 11,
     "metadata": {},
     "output_type": "execute_result"
    }
   ],
   "source": [
    "import cv2\n",
    "\n",
    "# Load faceClassifier\n",
    "faceClassifier = cv2.CascadeClassifier('./haarcascade_frontalface_default.xml')\n",
    "\n",
    "# Read Image\n",
    "img = cv2.imread('./pictures/test/3.jpg')\n",
    "\n",
    "# Change image to gray_scale(two-dimension)\n",
    "gray = cv2.cvtColor(img, cv2.COLOR_BGR2GRAY)\n",
    "\n",
    "# Detect faces\n",
    "faces =faceClassifier.detectMultiScale(\n",
    "    gray,\n",
    "    scaleFactor=1.1,\n",
    "    minNeighbors=10,\n",
    "    minSize=(50,50)\n",
    ")\n",
    "\n",
    "# Draw rectangle\n",
    "for face in faces:\n",
    "    x, y, w, h = [V for V in face] # Vertices in face\n",
    "    cv2.rectangle(img, (x, y), (x+w, y+h), (0, 255, 0))\n",
    "\n",
    "cv2.imshow('check image', img)\n",
    "cv2.waitKey(0)"
   ]
  },
  {
   "cell_type": "code",
   "execution_count": 12,
   "metadata": {
    "collapsed": true
   },
   "outputs": [],
   "source": [
    "def cropface(imagePath):\n",
    "    # Load faceClassifier\n",
    "    faceClassifier = cv2.CascadeClassifier('./haarcascade_frontalface_default.xml')\n",
    "    \n",
    "    # Read Image\n",
    "    img = cv2.imread(imagePath)\n",
    "    \n",
    "    # Change image to gray_scale(two-dimension)\n",
    "    gray = cv2.cvtColor(img, cv2.COLOR_BGR2GRAY)\n",
    "    \n",
    "    # Detect faces\n",
    "    faces =faceClassifier.detectMultiScale(\n",
    "        gray,\n",
    "        scaleFactor=1.1,\n",
    "        minNeighbors=10,\n",
    "        minSize=(50,50)\n",
    "    )\n",
    "    \n",
    "    # Draw rectangle on each face\n",
    "    for face in faces:\n",
    "        x, y, w, h = [V for V in face] # Vertices in face\n",
    "        cv2.rectangle(gray, (x, y), (x+w, y+h), (0, 255, 0), 2)\n",
    "        \n",
    "        # Crop face from image\n",
    "        sub_face = gray[y:y+h, x:x+w] # Region of interest\n",
    "        \n",
    "        # Resize sub_face image\n",
    "        newx, newy = 70, 70 # width, height\n",
    "        resized_sub_face = cv2.resize(sub_face, (newx, newy))\n",
    "        \n",
    "        # Save resized_sub_face_file\n",
    "        face_file_name = './pictures/test/3-1.jpg'\n",
    "        cv2.imwrite(face_file_name, resized_sub_face)\n",
    "    \n",
    "#     # show image\n",
    "#     cv2.imshow('original image', gray)\n",
    "#     cv2.imshow('subface', sub_face)\n",
    "#     cv2.waitKey(0)"
   ]
  },
  {
   "cell_type": "code",
   "execution_count": 13,
   "metadata": {
    "collapsed": false
   },
   "outputs": [],
   "source": [
    "cropface('./pictures/test/3.jpg')"
   ]
  },
  {
   "cell_type": "code",
   "execution_count": 2,
   "metadata": {
    "collapsed": false
   },
   "outputs": [],
   "source": [
    "# Save all images in path\n",
    "import glob\n",
    "\n",
    "# get imagePath\n",
    "imgList = glob.glob('./pictures/3/*.jpg')\n",
    "\n",
    "for img in imgList:\n",
    "    cropface(img)"
   ]
  }
 ],
 "metadata": {
  "kernelspec": {
   "display_name": "Python 3",
   "language": "python",
   "name": "python3"
  },
  "language_info": {
   "codemirror_mode": {
    "name": "ipython",
    "version": 3
   },
   "file_extension": ".py",
   "mimetype": "text/x-python",
   "name": "python",
   "nbconvert_exporter": "python",
   "pygments_lexer": "ipython3",
   "version": "3.5.1+"
  }
 },
 "nbformat": 4,
 "nbformat_minor": 0
}
